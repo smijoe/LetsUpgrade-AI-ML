{
 "cells": [
  {
   "cell_type": "code",
   "execution_count": 6,
   "metadata": {},
   "outputs": [
    {
     "name": "stdout",
     "output_type": "stream",
     "text": [
      "84654\n",
      "-80808\n",
      "159091713\n",
      "0.023244007687565724\n",
      "43\n",
      "42\n"
     ]
    }
   ],
   "source": [
    "# Question 1\n",
    "a = 1923+82731\n",
    "b = 1923-82731\n",
    "c = 1923*82731\n",
    "d = 1923/82731\n",
    "e = 82731//1923\n",
    "f = 82731%1923\n",
    "\n",
    "print(a)\n",
    "print(b)\n",
    "print(c)\n",
    "print(d)\n",
    "print(e)\n",
    "print(f)\n",
    "\n"
   ]
  },
  {
   "cell_type": "markdown",
   "metadata": {},
   "source": [
    "# Question 2\n",
    "A range function is used to create a list starting from 0 with an incremental value of 1"
   ]
  },
  {
   "cell_type": "code",
   "execution_count": 8,
   "metadata": {},
   "outputs": [
    {
     "name": "stdout",
     "output_type": "stream",
     "text": [
      "0\n",
      "1\n",
      "2\n",
      "3\n",
      "4\n",
      "5\n",
      "6\n",
      "7\n",
      "8\n",
      "9\n"
     ]
    }
   ],
   "source": [
    "# Question 2\n",
    "range1 = range(10)\n",
    "for z in range1:\n",
    "    print(z)"
   ]
  },
  {
   "cell_type": "code",
   "execution_count": 9,
   "metadata": {},
   "outputs": [
    {
     "name": "stdout",
     "output_type": "stream",
     "text": [
      "500000\n"
     ]
    }
   ],
   "source": [
    "# Question 3\n",
    "x = 500\n",
    "y = 1000\n",
    "z = y - x\n",
    "if z > 25:\n",
    "    print(x*y)\n",
    "else:\n",
    "    print(x/y)"
   ]
  },
  {
   "cell_type": "code",
   "execution_count": 15,
   "metadata": {},
   "outputs": [
    {
     "data": {
      "text/plain": [
       "5"
      ]
     },
     "execution_count": 15,
     "metadata": {},
     "output_type": "execute_result"
    }
   ],
   "source": [
    "11//2"
   ]
  },
  {
   "cell_type": "code",
   "execution_count": 14,
   "metadata": {},
   "outputs": [
    {
     "name": "stdout",
     "output_type": "stream",
     "text": [
      "10 Square Of the Number minus 2 is  98\n",
      "12 Square Of the Number minus 2 is  142\n",
      "14 Square Of the Number minus 2 is  194\n",
      "16 Square Of the Number minus 2 is  254\n",
      "18 Square Of the Number minus 2 is  322\n"
     ]
    }
   ],
   "source": [
    "# Question 4\n",
    "list1 = [10,11,12,13,14,15,16,17,18,19]\n",
    "for i in list1:\n",
    "    if i%2==0:\n",
    "        print(i, 'Square Of the Number minus 2 is ',i**2-2)\n",
    "    "
   ]
  },
  {
   "cell_type": "code",
   "execution_count": 17,
   "metadata": {},
   "outputs": [
    {
     "name": "stdout",
     "output_type": "stream",
     "text": [
      "16\n",
      "17\n",
      "18\n",
      "19\n"
     ]
    }
   ],
   "source": [
    "#Question 5\n",
    "list1 = [10,11,12,13,14,15,16,17,18,19]\n",
    "for i in list1:\n",
    "    if i//2>7:\n",
    "        print(i)"
   ]
  },
  {
   "cell_type": "code",
   "execution_count": null,
   "metadata": {},
   "outputs": [],
   "source": []
  }
 ],
 "metadata": {
  "kernelspec": {
   "display_name": "Python 3",
   "language": "python",
   "name": "python3"
  },
  "language_info": {
   "codemirror_mode": {
    "name": "ipython",
    "version": 3
   },
   "file_extension": ".py",
   "mimetype": "text/x-python",
   "name": "python",
   "nbconvert_exporter": "python",
   "pygments_lexer": "ipython3",
   "version": "3.7.6"
  }
 },
 "nbformat": 4,
 "nbformat_minor": 4
}
