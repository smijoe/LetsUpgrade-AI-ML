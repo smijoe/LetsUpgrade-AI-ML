{
 "cells": [
  {
   "cell_type": "code",
   "execution_count": 3,
   "metadata": {},
   "outputs": [
    {
     "name": "stdout",
     "output_type": "stream",
     "text": [
      "1 is a prime number\n",
      "3 is a prime number\n",
      "5 is a prime number\n",
      "7 is a prime number\n",
      "11 is a prime number\n",
      "13 is a prime number\n",
      "17 is a prime number\n",
      "19 is a prime number\n",
      "23 is a prime number\n",
      "29 is a prime number\n",
      "31 is a prime number\n",
      "37 is a prime number\n",
      "41 is a prime number\n",
      "43 is a prime number\n",
      "47 is a prime number\n",
      "53 is a prime number\n",
      "59 is a prime number\n",
      "61 is a prime number\n",
      "67 is a prime number\n",
      "71 is a prime number\n"
     ]
    }
   ],
   "source": [
    "# First 20 non even prime numbers\n",
    "i=1\n",
    "x=1\n",
    "while x<=20:\n",
    "    j=1\n",
    "    while j < i:\n",
    "        if j == 1:\n",
    "            j=j+1\n",
    "            continue\n",
    "        else:\n",
    "            result=i%j\n",
    "            if result==0:\n",
    "                i=i+1\n",
    "                break\n",
    "            else:\n",
    "                j=j+1\n",
    "    if j == i:\n",
    "        if i == 2:\n",
    "            i=i+1             \n",
    "        else:\n",
    "            print(i, 'is a prime number')\n",
    "            i=i+1\n",
    "            x=x+1\n",
    "\n",
    " "
   ]
  },
  {
   "cell_type": "code",
   "execution_count": 30,
   "metadata": {
    "scrolled": false
   },
   "outputs": [
    {
     "name": "stdout",
     "output_type": "stream",
     "text": [
      "letsupgrade\n",
      "Letsupgrade\n",
      "4\n",
      "2\n",
      "False\n",
      "False\n",
      "10\n",
      "('Lets', 'U', 'pgrade')\n",
      "['Lets', 'pgrade']\n",
      "True\n",
      "lETSuPGRADE\n",
      "LETSUPGRADE\n",
      "LetsUpgrade\n",
      "False\n",
      "False\n"
     ]
    }
   ],
   "source": [
    "# 15 string functions\n",
    "import string\n",
    "\n",
    "str='LetsUpgrade'\n",
    "print(str.lower())\n",
    "print(str.capitalize())\n",
    "print(str.find('U'))\n",
    "print(str.index('t'))\n",
    "print(str.isdigit())\n",
    "print(str.endswith('d'))\n",
    "print(str.rfind('e'))\n",
    "print(str.rpartition('U'))\n",
    "print(str.split('U'))\n",
    "print(str.startswith('L'))\n",
    "print(str.swapcase())\n",
    "print(str.upper())\n",
    "print(str.zfill(4))\n",
    "print(str.isupper())\n",
    "print(str.istitle())\n"
   ]
  },
  {
   "cell_type": "code",
   "execution_count": 1,
   "metadata": {},
   "outputs": [
    {
     "name": "stdout",
     "output_type": "stream",
     "text": [
      "malayalam\n",
      "malayalam is a palindrome\n"
     ]
    }
   ],
   "source": [
    "#palindrome check\n",
    "str=input()\n",
    "str2=str.lower()\n",
    "str1=str2[::-1]\n",
    "if str2==str1:\n",
    "    print(str, 'is a palindrome')\n",
    "else:\n",
    "    print(str, 'is not a palindrome')\n",
    "    \n",
    "\n"
   ]
  },
  {
   "cell_type": "code",
   "execution_count": 7,
   "metadata": {},
   "outputs": [
    {
     "name": "stdout",
     "output_type": "stream",
     "text": [
      "listen\n",
      "silent\n",
      "Anagrams\n",
      "['e', 'i', 'l', 'n', 's', 't']\n"
     ]
    }
   ],
   "source": [
    "#Anagram\n",
    "ana1 = input() #listen\n",
    "ana2 = input() #silent\n",
    "if sorted(ana1)==sorted(ana2):\n",
    "    print('Anagrams')\n",
    "    print(sorted(ana1))\n",
    "else:\n",
    "    print('Not Anagrams')\n"
   ]
  },
  {
   "cell_type": "code",
   "execution_count": 18,
   "metadata": {},
   "outputs": [
    {
     "name": "stdout",
     "output_type": "stream",
     "text": [
      "Mr.Smijoe, How are you??\n",
      "mr.smijoe, how are you??\n",
      "mrsmijoehowareyou\n"
     ]
    }
   ],
   "source": [
    "inputstr=input()\n",
    "newstr=''\n",
    "converted = inputstr.lower()\n",
    "print(converted)\n",
    "for i in converted:\n",
    "    if i in 'abcdefghijklmnopqrstuvwxyz':\n",
    "        newstr=newstr + i\n",
    "print(newstr)\n",
    "        "
   ]
  },
  {
   "cell_type": "code",
   "execution_count": null,
   "metadata": {},
   "outputs": [],
   "source": []
  }
 ],
 "metadata": {
  "kernelspec": {
   "display_name": "Python 3",
   "language": "python",
   "name": "python3"
  },
  "language_info": {
   "codemirror_mode": {
    "name": "ipython",
    "version": 3
   },
   "file_extension": ".py",
   "mimetype": "text/x-python",
   "name": "python",
   "nbconvert_exporter": "python",
   "pygments_lexer": "ipython3",
   "version": "3.7.6"
  }
 },
 "nbformat": 4,
 "nbformat_minor": 4
}
